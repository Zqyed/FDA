{
  "nbformat": 4,
  "nbformat_minor": 0,
  "metadata": {
    "colab": {
      "provenance": []
    },
    "kernelspec": {
      "name": "python3",
      "display_name": "Python 3"
    },
    "language_info": {
      "name": "python"
    }
  },
  "cells": [
    {
      "cell_type": "code",
      "execution_count": null,
      "metadata": {
        "id": "ZEIixtA6a4nN",
        "colab": {
          "base_uri": "https://localhost:8080/"
        },
        "outputId": "2de37f2f-8c11-4e46-83eb-d1559281d5b2"
      },
      "outputs": [
        {
          "output_type": "stream",
          "name": "stdout",
          "text": [
            "Enter your name: Zayed\n",
            "Hello, Zayed\n"
          ]
        }
      ],
      "source": [
        "# Basic Input/Output\n",
        "name = input(\"Enter your name: \")  # Takes input from the user and stores it in the 'name' variable\n",
        "print(\"Hello, \" + name)  # Greets the user by name"
      ]
    },
    {
      "cell_type": "markdown",
      "source": [
        "Exercise # 1 Basic Variables and Data Types"
      ],
      "metadata": {
        "id": "AF3yTs9DbDfw"
      }
    },
    {
      "cell_type": "code",
      "source": [
        "# Step 1: Create variables\n",
        "hobby = input (\"what is ur favorite hobby?\")  # Replace with your favorite hobby\n",
        "countries_visited = int(input(\"How many countries have you visited? \"))  # Replace with the number of countries you've visited\n",
        "distance_to_school = float(input(\"What is your distance to  school in Kilometers? \")) # Replace with the distance from your home to school in kilometers\n",
        "\n",
        "# Step 2: Complete the print statements below #print above define variables\n",
        "print(\"your favoite hobby is:\", hobby)\n",
        "print(f\"youve visited {countries_visited} countries\")\n",
        "print(f\"your distance to school is {distance_to_school} kilometers\")\n",
        "\n",
        "\n"
      ],
      "metadata": {
        "id": "sLX8heU7bD48",
        "colab": {
          "base_uri": "https://localhost:8080/"
        },
        "outputId": "e0e26ba8-4ceb-4d02-aa69-76386cb43511"
      },
      "execution_count": null,
      "outputs": [
        {
          "output_type": "stream",
          "name": "stdout",
          "text": [
            "what is ur favorite hobby?reading\n",
            "How many countries have you visited? 7\n",
            "What is your distance to  school in Kilometers? 21\n",
            "your favoite hobby is: reading\n",
            "youve visited 7 countries\n",
            "your distance to school is 21.0 kilometers\n"
          ]
        }
      ]
    },
    {
      "cell_type": "markdown",
      "source": [
        "Solution Exercise # 1"
      ],
      "metadata": {
        "id": "ox9PrZI9bFz8"
      }
    },
    {
      "cell_type": "code",
      "source": [],
      "metadata": {
        "id": "rVPq97HpbFjB"
      },
      "execution_count": null,
      "outputs": []
    },
    {
      "cell_type": "code",
      "source": [
        "Exercise 2: Basic Arithmetic Operations\n",
        "\n"
      ],
      "metadata": {
        "id": "H4HR73OxbKsB"
      },
      "execution_count": null,
      "outputs": []
    },
    {
      "cell_type": "code",
      "source": [
        "# Define two numbers\n",
        "num1 = 8  # First number\n",
        "num2 = 4  # Second number\n",
        "\n",
        "# Perform arithmetic operations\n",
        "sum =                     # Calculate the sum of num1 and num2\n",
        "difference =               # Calculate the difference between num1 and num2\n",
        "product =                 # Calculate the product of num1 and num2\n",
        "quotient =                 # Calculate the quotient of num1 divided by num2\n",
        "\n",
        "# Print the results\n",
        "print(\"Sum:\", sum)  # Print the sum\n",
        "print(\"Difference:\", difference)  # Print the difference\n",
        "print(\"Product:\", product)  # Print the product\n",
        "print(\"Quotient:\", quotient)  # Print the quotient\n"
      ],
      "metadata": {
        "id": "7dCGy3DfbOU0"
      },
      "execution_count": null,
      "outputs": []
    },
    {
      "cell_type": "markdown",
      "source": [
        "Solution Exercise # 2"
      ],
      "metadata": {
        "id": "6M_fctAwbQS3"
      }
    },
    {
      "cell_type": "code",
      "source": [
        "num1 = float(input(\"Enter the first number: \"))\n",
        "num2 = float(input(\"Enter the second number: \"))\n",
        "\n",
        "sum = num1 + num2\n",
        "difference = num1 - num2\n",
        "product = num1 * num2\n",
        "quotient = num1 / num2\n",
        "\n",
        "print(\"Sum:\", sum)\n",
        "print(\"Difference:\", difference)\n",
        "print(\"Product:\", product)\n",
        "print(\"Quotient:\", quotient)"
      ],
      "metadata": {
        "id": "hgOF1uhobSQA",
        "colab": {
          "base_uri": "https://localhost:8080/"
        },
        "outputId": "cc37227a-2fb0-4967-fa30-4c76c07acf0b"
      },
      "execution_count": null,
      "outputs": [
        {
          "output_type": "stream",
          "name": "stdout",
          "text": [
            "Enter the first number: 5\n",
            "Enter the second number: 6\n",
            "Sum: 11.0\n",
            "Difference: -1.0\n",
            "Product: 30.0\n",
            "Quotient: 0.8333333333333334\n"
          ]
        }
      ]
    },
    {
      "cell_type": "markdown",
      "source": [
        "Exercise # 3"
      ],
      "metadata": {
        "id": "n58MsJoLbTeK"
      }
    },
    {
      "cell_type": "code",
      "source": [
        "# Define two numbers\n",
        "num1 = 10  # Assign the value 10 to the variable 'num1'\n",
        "num2 = 5   # Assign the value 5 to the variable 'num2'\n",
        "\n",
        "# Perform comparison operations\n",
        "is_equal = (num1 == num2)  # Check if num1 is equal to num2\n",
        "is_not_equal = (num1 != num2)  # Check if num1 is not equal to num2\n",
        "is_greater = (num1 > num2)  # Check if num1 is greater than num2\n",
        "is_less = (num1 < num2)  # Check if num1 is less than num2\n",
        "is_greater_or_equal = (num1 >= num2)  # Check if num1 is greater than or equal to num2\n",
        "is_less_or_equal = (num1 <= num2)  # Check if num1 is less than or equal to num2\n",
        "\n",
        "# Print the results\n",
        "print(\"Is Equal:\", )  # Display if num1 is equal to num2\n",
        "print(\"Is Not Equal:\",)  # Display if num1 is not equal to num2\n",
        "print(\"Is Greater:\", )  # Display if num1 is greater than num2\n",
        "print(\"Is Less:\", )  # Display if num1 is less than num2\n",
        "print(\"Is Greater or Equal:\", )  # Display if num1 is greater than or equal to num2\n",
        "print(\"Is Less or Equal:\", is_less_or_equal)  # Display if num1 is less than or equal to num2\n"
      ],
      "metadata": {
        "id": "N0__tghRbWPM"
      },
      "execution_count": null,
      "outputs": []
    },
    {
      "cell_type": "markdown",
      "source": [
        "Solution"
      ],
      "metadata": {
        "id": "d3Z9pLkeiQbm"
      }
    },
    {
      "cell_type": "code",
      "source": [
        "num1 = int(input(\"enter the first number\"))  # Assign the value 10 to the variable 'num1'\n",
        "num2 = int(input(\"enter the second number\"))   # Assign the value 5 to the variable 'num2'\n",
        "\n",
        "# Perform comparison operations\n",
        "is_equal = (num1 == num2)\n",
        "is_not_equal = (num1 != num2)\n",
        "is_greater = (num1 > num2)\n",
        "is_less = (num1 < num2)\n",
        "is_greater_or_equal = (num1 >= num2)\n",
        "is_less_or_equal = (num1 <= num2)\n",
        "# Print the results\n",
        "print(\"Is Equal:\", is_equal )  # Display if num1 is equal to num2\n",
        "print(\"Is Not Equal:\", is_not_equal)  # Display if num1 is not equal to num2\n",
        "print(\"Is Greater:\", is_greater)  # Display if num1 is greater than num2\n",
        "print(\"Is Less:\", is_less)  # Display if num1 is less than num2\n",
        "print(\"Is Greater or Equal:\", is_greater_or_equal)  # Display if num1 is greater than or equal to num2\n",
        "print(\"Is Less or Equal:\", is_less_or_equal)  # Display if num1 is less than or equal to num2\n"
      ],
      "metadata": {
        "id": "Dsp9JBLCiRpT",
        "colab": {
          "base_uri": "https://localhost:8080/"
        },
        "outputId": "3d573c13-7d35-4e68-9120-92423bd75960"
      },
      "execution_count": null,
      "outputs": [
        {
          "output_type": "stream",
          "name": "stdout",
          "text": [
            "enter the first number5\n",
            "enter the second number10\n",
            "Is Equal: False\n",
            "Is Not Equal: True\n",
            "Is Greater: False\n",
            "Is Less: True\n",
            "Is Greater or Equal: False\n",
            "Is Less or Equal: True\n"
          ]
        }
      ]
    },
    {
      "cell_type": "markdown",
      "source": [],
      "metadata": {
        "id": "m6oJPI1KbXtU"
      }
    },
    {
      "cell_type": "markdown",
      "source": [
        "# **Exercises Loop**\n",
        "Exercise 1: Using a for Loop\n",
        "\n",
        "Write a for loop that prints each color in the following list:\n",
        "\n",
        " [\"red\", \"green\", \"blue\"]."
      ],
      "metadata": {
        "id": "JRqF9ElFbdC_"
      }
    },
    {
      "cell_type": "code",
      "source": [
        "colors = [\"red\", \"blue\", \"green\"]\n",
        "for color in colors:\n",
        "    print(color)\n",
        "    # Code to repeat\n"
      ],
      "metadata": {
        "id": "9wJcWA7cbhTQ",
        "colab": {
          "base_uri": "https://localhost:8080/"
        },
        "outputId": "7d823ac3-911e-498a-9369-d3b9b79afa0d"
      },
      "execution_count": null,
      "outputs": [
        {
          "output_type": "stream",
          "name": "stdout",
          "text": [
            "red\n",
            "blue\n",
            "green\n"
          ]
        }
      ]
    },
    {
      "cell_type": "markdown",
      "source": [
        "Solution:\n",
        "\n",
        "\n",
        "Define list:\n",
        "\n",
        "colors = [\"red\", \"green\", \"blue\"] creates a list of colors.\n",
        "\n",
        "Loop through list:\n",
        "\n",
        " for color in colors iterates over each item in the colors list.\n",
        "\n",
        "Print each color:\n",
        "\n",
        "print(color) outputs the current color in the loop"
      ],
      "metadata": {
        "id": "Sc0zVcOYbjaR"
      }
    },
    {
      "cell_type": "code",
      "source": [
        "colors = [\"red\", \"green\", \"blue\"]\n",
        "\n",
        "# Write your for loop here\n",
        "for color in colors:\n",
        "    print(color)\n"
      ],
      "metadata": {
        "id": "8lsvtOYzblMA",
        "colab": {
          "base_uri": "https://localhost:8080/"
        },
        "outputId": "e064b0c9-d1b0-47a1-fd21-de42b0e906a8"
      },
      "execution_count": null,
      "outputs": [
        {
          "output_type": "stream",
          "name": "stdout",
          "text": [
            "red\n",
            "green\n",
            "blue\n"
          ]
        }
      ]
    },
    {
      "cell_type": "markdown",
      "source": [
        "## Exercise 2:\n",
        "### Using a while Loop\n",
        "Write a while loop that prints numbers from 10 down to 1."
      ],
      "metadata": {
        "id": "NYcKnOHAbn4F"
      }
    },
    {
      "cell_type": "code",
      "source": [
        "num = 10\n",
        "while num >0:\n",
        "  print (num)\n",
        "  num = num - 1\n",
        "    # Code to repeat\n"
      ],
      "metadata": {
        "id": "aO3Z0ZJWbosH",
        "colab": {
          "base_uri": "https://localhost:8080/"
        },
        "outputId": "cf801967-4231-473d-d7f1-8ad853fdf892"
      },
      "execution_count": null,
      "outputs": [
        {
          "output_type": "stream",
          "name": "stdout",
          "text": [
            "10\n",
            "9\n",
            "8\n",
            "7\n",
            "6\n",
            "5\n",
            "4\n",
            "3\n",
            "2\n",
            "1\n"
          ]
        }
      ]
    },
    {
      "cell_type": "markdown",
      "source": [
        "## Solution:\n",
        "Set Starting Value: num is set to 10.\n",
        "\n",
        "Loop Condition: The while loop runs as long as num > 0.\n",
        "\n",
        "Print Value: Inside the loop, num is printed.\n",
        "\n",
        "Decrease Value: num -= 1 reduces num by 1 each time.\n",
        "\n",
        "Stop Condition: Loop stops when num reaches 0."
      ],
      "metadata": {
        "id": "GozIWclvbq9z"
      }
    },
    {
      "cell_type": "code",
      "source": [
        "num = 10\n",
        "\n",
        "# Write your while loop here\n",
        "while num > 0:\n",
        "    print(num)\n",
        "    num -= 1  # Decrease num by 1 each time\n"
      ],
      "metadata": {
        "id": "wcccV--dbsdE",
        "colab": {
          "base_uri": "https://localhost:8080/"
        },
        "outputId": "2439804d-b087-421a-f885-be6cd022d7cf"
      },
      "execution_count": null,
      "outputs": [
        {
          "output_type": "stream",
          "name": "stdout",
          "text": [
            "10\n",
            "9\n",
            "8\n",
            "7\n",
            "6\n",
            "5\n",
            "4\n",
            "3\n",
            "2\n",
            "1\n"
          ]
        }
      ]
    },
    {
      "cell_type": "markdown",
      "source": [
        "# Exercise If-then: Investment Risk Check\n",
        "Write a Python code to determine the risk level of an investment based on its amount.\n",
        " Use the following conditions:\n",
        "\n",
        "If the investment amount is more than 50,000, print \"High-risk investment.\"\n",
        "\n",
        "If the investment amount is less than 10,000, print \"Low-risk investment.\"\n",
        "\n",
        "Otherwise, print \"Medium-risk investment.\"\n"
      ],
      "metadata": {
        "id": "DYFBG_s5bzvE"
      }
    },
    {
      "cell_type": "code",
      "source": [
        "# Exercise: Check the risk level based on investment amount\n",
        "investment_amount = 0  # Change this value to test different outcomes\n",
        "\n",
        "if investment_amount >_______:\n",
        "    # Print high-risk message here\n",
        "elif investment_amount < _______:\n",
        "    # Print low-risk message here\n",
        "else:\n",
        "    # Print medium-risk message here\n"
      ],
      "metadata": {
        "id": "h-Ul0gqEb5sf"
      },
      "execution_count": null,
      "outputs": []
    },
    {
      "cell_type": "markdown",
      "source": [
        "## Solution\n",
        "Explanation\n",
        "Set an investment amount and check its risk level based on size.\n",
        "\n",
        "If investment_amount > 50000, it prints \"High-risk investment.\"\n",
        "\n",
        "If investment_amount < 10000, it prints \"Low-risk investment.\"\n",
        "\n",
        "Otherwise, it prints \"Medium-risk investment.\""
      ],
      "metadata": {
        "id": "U8PmFuMTb7hG"
      }
    },
    {
      "cell_type": "code",
      "source": [
        "for x in range (0,3):\n",
        "  investment_amount = float(input(\"enter the amount of the investment\"))\n",
        "  if investment_amount > 50000:\n",
        "    investment_risk = \"High risk investment\"\n",
        "  elif investment_amount <10000:\n",
        "    investment_risk = \"Low risk investment\"\n",
        "  else:\n",
        "    investment_risk = \"Medium risk investment\"\n",
        "\n",
        "  print(\"Your investment is a\", investment_risk)"
      ],
      "metadata": {
        "id": "veqNhcZHb83e",
        "colab": {
          "base_uri": "https://localhost:8080/"
        },
        "outputId": "d2b84cba-9f3c-407c-8214-60fcf0b95a10"
      },
      "execution_count": null,
      "outputs": [
        {
          "output_type": "stream",
          "name": "stdout",
          "text": [
            "enter the amount of the investment60000\n",
            "Your investment is a High risk investment\n",
            "enter the amount of the investment9000\n",
            "Your investment is a Low risk investment\n",
            "enter the amount of the investment30000\n",
            "Your investment is a Medium risk investment\n"
          ]
        }
      ]
    },
    {
      "cell_type": "markdown",
      "source": [
        "# Exercise : Profit or Loss Check\n",
        "Write a Python code to check if a company made a profit or a loss based on its revenue and expenses. Use the following logic:\n",
        "\n",
        "If the revenue is greater than the expenses, print \"Profit.\"\n",
        "\n",
        "If the revenue is equal to or less than the expenses, print \"Loss.\""
      ],
      "metadata": {
        "id": "39eQwylWb-e8"
      }
    },
    {
      "cell_type": "code",
      "source": [
        "# Exercise: Determine profit or loss based on revenue and expenses\n",
        "revenue = 0   # Change this value to test different outcomes\n",
        "expenses = 0  # Change this value to test different outcomes\n",
        "\n",
        "if revenue > expenses:\n",
        "    # Print profit message here\n",
        "else:\n",
        "    # Print loss message here\n"
      ],
      "metadata": {
        "id": "L2NCOixWcAFb"
      },
      "execution_count": null,
      "outputs": []
    },
    {
      "cell_type": "markdown",
      "source": [
        "## Solution\n",
        "\n",
        "Set values for revenue and expenses to check financial status.\n",
        "\n",
        "If revenue > expenses, it prints \"Profit.\"\n",
        "\n",
        "If revenue <= expenses, it prints \"Loss.\""
      ],
      "metadata": {
        "id": "Hah7xAg4cBYf"
      }
    },
    {
      "cell_type": "code",
      "source": [
        "revenue = float(input(\"enter the revenue\"))\n",
        "expenses = float(input(\"enter the expenses\"))\n",
        "\n",
        "if revenue > expenses:\n",
        "  print (\"The company has made Profit\")\n",
        "elif revenue < expenses:\n",
        "  print (\"the company has made a Loss\")\n",
        "else:\n",
        "  print (\"the company has broken even\")"
      ],
      "metadata": {
        "id": "g6pALVlacDSp",
        "colab": {
          "base_uri": "https://localhost:8080/"
        },
        "outputId": "c46bc4da-a373-4cbe-fd01-aec911d3ea72"
      },
      "execution_count": null,
      "outputs": [
        {
          "output_type": "stream",
          "name": "stdout",
          "text": [
            "enter the revenue20\n",
            "enter the expenses23\n",
            "the company has made a Loss\n"
          ]
        }
      ]
    },
    {
      "cell_type": "markdown",
      "source": [
        "Exercise\n",
        "\n",
        "**Importing a CSV file from a working URL 'https://raw.githubusercontent.com/datasets/s-and-p-500-companies/master/data/constituents.csv'**\n",
        "\n",
        "Then show data from first 4 rows"
      ],
      "metadata": {
        "id": "s0XkdMAHbnwb"
      }
    },
    {
      "cell_type": "code",
      "source": [
        "import pandas as pd\n",
        "df = pd.read_csv('https://raw.githubusercontent.com/datasets/s-and-p-500-companies/master/data/constituents.csv')\n",
        "print(df.head (4))"
      ],
      "metadata": {
        "id": "_1zYgvAYfjTS",
        "colab": {
          "base_uri": "https://localhost:8080/"
        },
        "outputId": "756fe23e-ba99-40f5-e505-b900863c03e7"
      },
      "execution_count": null,
      "outputs": [
        {
          "output_type": "stream",
          "name": "stdout",
          "text": [
            "  Symbol             Security  GICS Sector         GICS Sub-Industry  \\\n",
            "0    MMM                   3M  Industrials  Industrial Conglomerates   \n",
            "1    AOS          A. O. Smith  Industrials         Building Products   \n",
            "2    ABT  Abbott Laboratories  Health Care     Health Care Equipment   \n",
            "3   ABBV               AbbVie  Health Care             Biotechnology   \n",
            "\n",
            "     Headquarters Location  Date added      CIK      Founded  \n",
            "0    Saint Paul, Minnesota  1957-03-04    66740         1902  \n",
            "1     Milwaukee, Wisconsin  2017-07-26    91142         1916  \n",
            "2  North Chicago, Illinois  1957-03-04     1800         1888  \n",
            "3  North Chicago, Illinois  2012-12-31  1551152  2013 (1888)  \n"
          ]
        }
      ]
    },
    {
      "cell_type": "markdown",
      "source": [
        "Solution"
      ],
      "metadata": {
        "id": "3U0V7yGzfluB"
      }
    },
    {
      "cell_type": "code",
      "source": [
        "# prompt: Create a sequence of business days covering approximately 6 months (around\n",
        "# 180 trading days).\n",
        "\n",
        "import pandas as pd\n",
        "import yfinance as yf\n",
        "from pandas.tseries.offsets import BDay\n",
        "import matplotlib.pyplot as plt\n",
        "import numpy as np\n",
        "\n",
        "#Period of last 180 business days\n",
        "df = yf.download(\"TSLA\")\n",
        "last_date = df.index[-1]\n",
        "start_date = last_date - BDay(180)\n",
        "df_filtered = df[df.index >= start_date]\n",
        "print (df_filtered.head(4))\n",
        "print (df_filtered.tail(4))\n",
        "\n",
        "#prompt 2: Calculate the daily return as the percentage change in the Close price of any stock. 2b. Store the result in a new column named Daily Return.\n",
        "df_filtered[\"Daily Return\"] = df_filtered[\"Close\"].pct_change()\n",
        "print (df_filtered.head(4))\n",
        "print (df_filtered.tail(4))\n",
        "\n",
        "#prompt 3: Create a plot that displays: The synthetic Close price; The 20-day moving average (MA20); The 50-day moving average (MA50)\n",
        "#Synthetic Close Price using VWAP (Volume Weighted Average Price)\n",
        "df_filtered[\"Synthetic Close\"] = (df_filtered[\"Close\"] * df_filtered[\"Volume\"]).cumsum() / df_filtered[\"Volume\"].cumsum()\n",
        "print (df_filtered.head(4))\n",
        "print (df_filtered.tail(4))\n",
        "#Computing 20 Day Moving Average:\n",
        "df_filtered[\"MA20\"] = df_filtered[\"Close\"].rolling(window=20).mean()\n",
        "\n",
        "#Computing 50 Day Moving Average:\n",
        "df_filtered[\"MA50\"] = df_filtered[\"Close\"].rolling(window=50).mean()\n",
        "\n",
        "#Plotting\n",
        "plt.figure(figsize=(12, 6))\n",
        "plt.plot(df_filtered[\"Synthetic Close\"], label = \"Synthetic Close Price\")\n",
        "plt.plot(df_filtered[\"MA20\"], label = \"20-Day Moving Average\")\n",
        "plt.plot(df_filtered[\"MA50\"], label = \"50-Day Moving Average\")\n",
        "plt.title(\"TSLA Synthetic Close Price, MA20, and MA50\")\n",
        "plt.xlabel(\"Date\")\n",
        "plt.ylabel(\"Price\")\n",
        "plt.legend()\n",
        "plt.show()\n",
        "\n",
        "\n",
        "#Price of Bitcoin in the month Feb 2025\n",
        "df2 = yf.download(\"BTC-USD\", start=\"2025-02-01\", end=\"2025-03-01\")\n",
        "print (df2.head(4))\n",
        "print (df2.tail(4))\n",
        "average_btc_price = df2[\"Close\"].mean()\n",
        "print (average_btc_price)\n",
        "#\n",
        "\n",
        "\n",
        "\n"
      ],
      "metadata": {
        "id": "8PJ7xvkBfolI",
        "colab": {
          "base_uri": "https://localhost:8080/",
          "height": 1000
        },
        "outputId": "391258b5-cf11-4ef2-aebc-eeb178ca38a1"
      },
      "execution_count": null,
      "outputs": [
        {
          "output_type": "stream",
          "name": "stderr",
          "text": [
            "\r[*********************100%***********************]  1 of 1 completed\n",
            "<ipython-input-6-b0ab0fa00e5f>:19: SettingWithCopyWarning: \n",
            "A value is trying to be set on a copy of a slice from a DataFrame.\n",
            "Try using .loc[row_indexer,col_indexer] = value instead\n",
            "\n",
            "See the caveats in the documentation: https://pandas.pydata.org/pandas-docs/stable/user_guide/indexing.html#returning-a-view-versus-a-copy\n",
            "  df_filtered[\"Daily Return\"] = df_filtered[\"Close\"].pct_change()\n",
            "<ipython-input-6-b0ab0fa00e5f>:25: SettingWithCopyWarning: \n",
            "A value is trying to be set on a copy of a slice from a DataFrame.\n",
            "Try using .loc[row_indexer,col_indexer] = value instead\n",
            "\n",
            "See the caveats in the documentation: https://pandas.pydata.org/pandas-docs/stable/user_guide/indexing.html#returning-a-view-versus-a-copy\n",
            "  df_filtered[\"Synthetic Close\"] = (df_filtered[\"Close\"] * df_filtered[\"Volume\"]).cumsum() / df_filtered[\"Volume\"].cumsum()\n",
            "<ipython-input-6-b0ab0fa00e5f>:29: SettingWithCopyWarning: \n",
            "A value is trying to be set on a copy of a slice from a DataFrame.\n",
            "Try using .loc[row_indexer,col_indexer] = value instead\n",
            "\n",
            "See the caveats in the documentation: https://pandas.pydata.org/pandas-docs/stable/user_guide/indexing.html#returning-a-view-versus-a-copy\n",
            "  df_filtered[\"MA20\"] = df_filtered[\"Close\"].rolling(window=20).mean()\n",
            "<ipython-input-6-b0ab0fa00e5f>:32: SettingWithCopyWarning: \n",
            "A value is trying to be set on a copy of a slice from a DataFrame.\n",
            "Try using .loc[row_indexer,col_indexer] = value instead\n",
            "\n",
            "See the caveats in the documentation: https://pandas.pydata.org/pandas-docs/stable/user_guide/indexing.html#returning-a-view-versus-a-copy\n",
            "  df_filtered[\"MA50\"] = df_filtered[\"Close\"].rolling(window=50).mean()\n"
          ]
        },
        {
          "output_type": "stream",
          "name": "stdout",
          "text": [
            "Price            Close        High         Low        Open    Volume\n",
            "Ticker            TSLA        TSLA        TSLA        TSLA      TSLA\n",
            "Date                                                                \n",
            "2024-06-24  182.580002  188.800003  182.550003  184.970001  61992100\n",
            "2024-06-25  187.350006  187.970001  182.009995  184.399994  63678300\n",
            "2024-06-26  196.369995  197.759995  186.360001  186.539993  95737100\n",
            "2024-06-27  197.419998  198.720001  194.050003  195.169998  72746500\n",
            "Price            Close        High         Low        Open     Volume\n",
            "Ticker            TSLA        TSLA        TSLA        TSLA       TSLA\n",
            "Date                                                                 \n",
            "2025-02-26  290.799988  309.000000  288.040009  303.709991  100118300\n",
            "2025-02-27  281.950012  297.230011  280.880005  291.160004  101748200\n",
            "2025-02-28  292.980011  293.880005  273.600006  279.500000  115697000\n",
            "2025-03-03  284.649994  303.940002  277.299988  300.339996  115144200\n",
            "Price            Close        High         Low        Open    Volume  \\\n",
            "Ticker            TSLA        TSLA        TSLA        TSLA      TSLA   \n",
            "Date                                                                   \n",
            "2024-06-24  182.580002  188.800003  182.550003  184.970001  61992100   \n",
            "2024-06-25  187.350006  187.970001  182.009995  184.399994  63678300   \n",
            "2024-06-26  196.369995  197.759995  186.360001  186.539993  95737100   \n",
            "2024-06-27  197.419998  198.720001  194.050003  195.169998  72746500   \n",
            "\n",
            "Price      Daily Return  \n",
            "Ticker                   \n",
            "Date                     \n",
            "2024-06-24          NaN  \n",
            "2024-06-25     0.026126  \n",
            "2024-06-26     0.048145  \n",
            "2024-06-27     0.005347  \n",
            "Price            Close        High         Low        Open     Volume  \\\n",
            "Ticker            TSLA        TSLA        TSLA        TSLA       TSLA   \n",
            "Date                                                                    \n",
            "2025-02-26  290.799988  309.000000  288.040009  303.709991  100118300   \n",
            "2025-02-27  281.950012  297.230011  280.880005  291.160004  101748200   \n",
            "2025-02-28  292.980011  293.880005  273.600006  279.500000  115697000   \n",
            "2025-03-03  284.649994  303.940002  277.299988  300.339996  115144200   \n",
            "\n",
            "Price      Daily Return  \n",
            "Ticker                   \n",
            "Date                     \n",
            "2025-02-26    -0.039630  \n",
            "2025-02-27    -0.030433  \n",
            "2025-02-28     0.039120  \n",
            "2025-03-03    -0.028432  \n",
            "Price            Close        High         Low        Open    Volume  \\\n",
            "Ticker            TSLA        TSLA        TSLA        TSLA      TSLA   \n",
            "Date                                                                   \n",
            "2024-06-24  182.580002  188.800003  182.550003  184.970001  61992100   \n",
            "2024-06-25  187.350006  187.970001  182.009995  184.399994  63678300   \n",
            "2024-06-26  196.369995  197.759995  186.360001  186.539993  95737100   \n",
            "2024-06-27  197.419998  198.720001  194.050003  195.169998  72746500   \n",
            "\n",
            "Price      Daily Return Synthetic Close  \n",
            "Ticker                                   \n",
            "Date                                     \n",
            "2024-06-24          NaN      182.580002  \n",
            "2024-06-25     0.026126      184.997005  \n",
            "2024-06-26     0.048145      189.914711  \n",
            "2024-06-27     0.005347      191.770825  \n",
            "Price            Close        High         Low        Open     Volume  \\\n",
            "Ticker            TSLA        TSLA        TSLA        TSLA       TSLA   \n",
            "Date                                                                    \n",
            "2025-02-26  290.799988  309.000000  288.040009  303.709991  100118300   \n",
            "2025-02-27  281.950012  297.230011  280.880005  291.160004  101748200   \n",
            "2025-02-28  292.980011  293.880005  273.600006  279.500000  115697000   \n",
            "2025-03-03  284.649994  303.940002  277.299988  300.339996  115144200   \n",
            "\n",
            "Price      Daily Return Synthetic Close  \n",
            "Ticker                                   \n",
            "Date                                     \n",
            "2025-02-26    -0.039630      294.582667  \n",
            "2025-02-27    -0.030433      294.499464  \n",
            "2025-02-28     0.039120      294.488169  \n",
            "2025-03-03    -0.028432      294.415920  \n"
          ]
        },
        {
          "output_type": "display_data",
          "data": {
            "text/plain": [
              "<Figure size 1200x600 with 1 Axes>"
            ],
            "image/png": "[encoded data removed]"
          },
          "metadata": {}
        },
        {
          "output_type": "stream",
          "name": "stderr",
          "text": [
            "\r[*********************100%***********************]  1 of 1 completed"
          ]
        },
        {
          "output_type": "stream",
          "name": "stdout",
          "text": [
            "Price               Close           High            Low           Open  \\\n",
            "Ticker            BTC-USD        BTC-USD        BTC-USD        BTC-USD   \n",
            "Date                                                                     \n",
            "2025-02-01  100655.906250  102755.726562  100297.710938  102402.796875   \n",
            "2025-02-02   97688.976562  101430.664062   96216.078125  100661.539062   \n",
            "2025-02-03  101405.421875  102514.171875   91242.890625   97681.101562   \n",
            "2025-02-04   97871.820312  101745.617188   96208.109375  101398.718750   \n",
            "\n",
            "Price             Volume  \n",
            "Ticker           BTC-USD  \n",
            "Date                      \n",
            "2025-02-01   27757944848  \n",
            "2025-02-02   63091816853  \n",
            "2025-02-03  115400897748  \n",
            "2025-02-04   73002130211  \n",
            "Price              Close          High           Low          Open  \\\n",
            "Ticker           BTC-USD       BTC-USD       BTC-USD       BTC-USD   \n",
            "Date                                                                 \n",
            "2025-02-25  88736.171875  92511.078125  86008.234375  91437.117188   \n",
            "2025-02-26  84347.023438  89286.250000  82131.898438  88638.890625   \n",
            "2025-02-27  84704.226562  87000.781250  83144.960938  84076.859375   \n",
            "2025-02-28  84373.007812  85036.320312  78248.914062  84705.625000   \n",
            "\n",
            "Price            Volume  \n",
            "Ticker          BTC-USD  \n",
            "Date                     \n",
            "2025-02-25  92139104128  \n",
            "2025-02-26  64597492134  \n",
            "2025-02-27  52659591954  \n",
            "2025-02-28  83610570576  \n",
            "Ticker\n",
            "BTC-USD    95290.709542\n",
            "dtype: float64\n"
          ]
        },
        {
          "output_type": "stream",
          "name": "stderr",
          "text": [
            "\n"
          ]
        }
      ]
    },
    {
      "cell_type": "markdown",
      "source": [
        "1. Create a sequence of business days covering approximately 6 months (around\n",
        "\n",
        "---\n",
        "\n",
        "180 trading days).\n",
        "\n",
        "2. Calculate the daily return as the percentage change in the Close price of any stock.\n",
        "2b. Store the result in a new column named Daily Return.\n",
        "\n",
        "\n",
        "\n",
        "3. Create a plot that displays:\n",
        "The synthetic Close price; The 20-day moving average (MA20); The 50-day moving average (MA50)\n",
        "\n",
        "4. price of btc in month of feb 2025.\n",
        "\n",
        "\n"
      ],
      "metadata": {
        "id": "A5NUvk5R-jod"
      }
    }
  ]
}